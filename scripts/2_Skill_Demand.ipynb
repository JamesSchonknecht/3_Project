{
 "cells": [
  {
   "cell_type": "markdown",
   "id": "3ef127fb",
   "metadata": {},
   "source": [
    "### Find Most in-Demand Skills for Top 3 Most Popular Data Roles\n",
    "\n",
    "Method:\n",
    "1. Clean skill column\n",
    "2. Calculate skill count based on `job_title_short`\n",
    "3. Calculate skill percentage\n",
    "4. Plot final findings"
   ]
  },
  {
   "cell_type": "code",
   "execution_count": 1,
   "id": "47e3f186",
   "metadata": {},
   "outputs": [],
   "source": [
    "# Import libraries\n",
    "import pandas as pd\n",
    "import ast\n",
    "import matplotlib.pyplot as plt\n",
    "import seaborn as sns\n",
    "\n",
    "# Load data\n",
    "df = pd.read_csv(r'../data/data_jobs.csv')\n",
    "\n",
    "# Data cleanup\n",
    "df['job_posted_date'] = pd.to_datetime(df['job_posted_date'])\n",
    "df['job_skills'] = df['job_skills'].apply(lambda skill_list: ast.literal_eval(skill_list) if pd.notna(skill_list) else skill_list)"
   ]
  },
  {
   "cell_type": "markdown",
   "id": "8b7a8414",
   "metadata": {},
   "source": [
    "### Plot Count of Data Analyst, Data Engineer, and Data Scientist Job Postings"
   ]
  },
  {
   "cell_type": "code",
   "execution_count": 106,
   "id": "8c7228ec",
   "metadata": {},
   "outputs": [],
   "source": [
    "# Filter for jobs in Australia\n",
    "df_aus = df[df['job_country'] == 'Australia']\n",
    "df_skills = df_aus.explode('job_skills')\n",
    "\n",
    "# Count number of times skills appear for certain job titles\n",
    "df_skills_count = df_skills.groupby(['job_title_short', 'job_skills']).size()\n",
    "df_skills_count = df_skills_count.reset_index(name='skill_count')\n",
    "df_skills_count = df_skills_count.sort_values(by='skill_count', ascending=False)"
   ]
  },
  {
   "cell_type": "code",
   "execution_count": 107,
   "id": "6890fb7c",
   "metadata": {},
   "outputs": [
    {
     "data": {
      "text/plain": [
       "['Data Analyst', 'Data Engineer', 'Data Scientist']"
      ]
     },
     "execution_count": 107,
     "metadata": {},
     "output_type": "execute_result"
    }
   ],
   "source": [
    "# Create list of job titles of interest\n",
    "job_titles = ['Data Analyst', 'Data Engineer', 'Data Scientist']\n",
    "job_titles"
   ]
  },
  {
   "cell_type": "code",
   "execution_count": 108,
   "id": "2fd44568",
   "metadata": {},
   "outputs": [
    {
     "data": {
      "application/vnd.microsoft.datawrangler.viewer.v0+json": {
       "columns": [
        {
         "name": "index",
         "rawType": "int64",
         "type": "integer"
        },
        {
         "name": "job_title_short",
         "rawType": "object",
         "type": "string"
        },
        {
         "name": "job_skills",
         "rawType": "object",
         "type": "string"
        },
        {
         "name": "skill_count",
         "rawType": "int64",
         "type": "integer"
        }
       ],
       "ref": "5d04d79e-4193-4d4d-b6db-61886537913d",
       "rows": [
        [
         "510",
         "Data Engineer",
         "sql",
         "2914"
        ],
        [
         "484",
         "Data Engineer",
         "python",
         "2388"
        ],
        [
         "385",
         "Data Engineer",
         "azure",
         "1789"
        ],
        [
         "384",
         "Data Engineer",
         "aws",
         "1752"
        ],
        [
         "505",
         "Data Engineer",
         "spark",
         "1157"
        ],
        [
         "1004",
         "Senior Data Engineer",
         "sql",
         "949"
        ],
        [
         "978",
         "Senior Data Engineer",
         "python",
         "875"
        ],
        [
         "404",
         "Data Engineer",
         "databricks",
         "862"
        ],
        [
         "347",
         "Data Analyst",
         "sql",
         "771"
        ],
        [
         "435",
         "Data Engineer",
         "java",
         "698"
        ],
        [
         "899",
         "Senior Data Engineer",
         "aws",
         "673"
        ],
        [
         "503",
         "Data Engineer",
         "snowflake",
         "665"
        ],
        [
         "495",
         "Data Engineer",
         "scala",
         "593"
        ],
        [
         "900",
         "Senior Data Engineer",
         "azure",
         "570"
        ],
        [
         "662",
         "Data Scientist",
         "sql",
         "557"
        ],
        [
         "478",
         "Data Engineer",
         "power bi",
         "550"
        ],
        [
         "635",
         "Data Scientist",
         "python",
         "549"
        ],
        [
         "441",
         "Data Engineer",
         "kafka",
         "538"
        ],
        [
         "374",
         "Data Engineer",
         "airflow",
         "532"
        ],
        [
         "1141",
         "Software Engineer",
         "aws",
         "532"
        ],
        [
         "490",
         "Data Engineer",
         "redshift",
         "527"
        ],
        [
         "420",
         "Data Engineer",
         "gcp",
         "504"
        ],
        [
         "1245",
         "Software Engineer",
         "python",
         "491"
        ],
        [
         "511",
         "Data Engineer",
         "sql server",
         "487"
        ],
        [
         "322",
         "Data Analyst",
         "python",
         "435"
        ],
        [
         "430",
         "Data Engineer",
         "hadoop",
         "432"
        ],
        [
         "1000",
         "Senior Data Engineer",
         "spark",
         "420"
        ],
        [
         "520",
         "Data Engineer",
         "tableau",
         "411"
        ],
        [
         "1193",
         "Software Engineer",
         "java",
         "398"
        ],
        [
         "317",
         "Data Analyst",
         "power bi",
         "397"
        ],
        [
         "423",
         "Data Engineer",
         "git",
         "393"
        ],
        [
         "262",
         "Data Analyst",
         "excel",
         "386"
        ],
        [
         "469",
         "Data Engineer",
         "oracle",
         "380"
        ],
        [
         "487",
         "Data Engineer",
         "r",
         "352"
        ],
        [
         "915",
         "Senior Data Engineer",
         "databricks",
         "336"
        ],
        [
         "1275",
         "Software Engineer",
         "sql",
         "334"
        ],
        [
         "354",
         "Data Analyst",
         "tableau",
         "330"
        ],
        [
         "1142",
         "Software Engineer",
         "azure",
         "324"
        ],
        [
         "639",
         "Data Scientist",
         "r",
         "312"
        ],
        [
         "464",
         "Data Engineer",
         "nosql",
         "307"
        ],
        [
         "999",
         "Senior Data Engineer",
         "snowflake",
         "302"
        ],
        [
         "90",
         "Business Analyst",
         "sql",
         "296"
        ],
        [
         "513",
         "Data Engineer",
         "ssis",
         "295"
        ],
        [
         "483",
         "Data Engineer",
         "pyspark",
         "294"
        ],
        [
         "387",
         "Data Engineer",
         "bigquery",
         "291"
        ],
        [
         "938",
         "Senior Data Engineer",
         "java",
         "282"
        ],
        [
         "24",
         "Business Analyst",
         "excel",
         "275"
        ],
        [
         "326",
         "Data Analyst",
         "r",
         "267"
        ],
        [
         "426",
         "Data Engineer",
         "go",
         "265"
        ],
        [
         "760",
         "Machine Learning Engineer",
         "python",
         "261"
        ]
       ],
       "shape": {
        "columns": 3,
        "rows": 1307
       }
      },
      "text/html": [
       "<div>\n",
       "<style scoped>\n",
       "    .dataframe tbody tr th:only-of-type {\n",
       "        vertical-align: middle;\n",
       "    }\n",
       "\n",
       "    .dataframe tbody tr th {\n",
       "        vertical-align: top;\n",
       "    }\n",
       "\n",
       "    .dataframe thead th {\n",
       "        text-align: right;\n",
       "    }\n",
       "</style>\n",
       "<table border=\"1\" class=\"dataframe\">\n",
       "  <thead>\n",
       "    <tr style=\"text-align: right;\">\n",
       "      <th></th>\n",
       "      <th>job_title_short</th>\n",
       "      <th>job_skills</th>\n",
       "      <th>skill_count</th>\n",
       "    </tr>\n",
       "  </thead>\n",
       "  <tbody>\n",
       "    <tr>\n",
       "      <th>510</th>\n",
       "      <td>Data Engineer</td>\n",
       "      <td>sql</td>\n",
       "      <td>2914</td>\n",
       "    </tr>\n",
       "    <tr>\n",
       "      <th>484</th>\n",
       "      <td>Data Engineer</td>\n",
       "      <td>python</td>\n",
       "      <td>2388</td>\n",
       "    </tr>\n",
       "    <tr>\n",
       "      <th>385</th>\n",
       "      <td>Data Engineer</td>\n",
       "      <td>azure</td>\n",
       "      <td>1789</td>\n",
       "    </tr>\n",
       "    <tr>\n",
       "      <th>384</th>\n",
       "      <td>Data Engineer</td>\n",
       "      <td>aws</td>\n",
       "      <td>1752</td>\n",
       "    </tr>\n",
       "    <tr>\n",
       "      <th>505</th>\n",
       "      <td>Data Engineer</td>\n",
       "      <td>spark</td>\n",
       "      <td>1157</td>\n",
       "    </tr>\n",
       "    <tr>\n",
       "      <th>...</th>\n",
       "      <td>...</td>\n",
       "      <td>...</td>\n",
       "      <td>...</td>\n",
       "    </tr>\n",
       "    <tr>\n",
       "      <th>613</th>\n",
       "      <td>Data Scientist</td>\n",
       "      <td>neo4j</td>\n",
       "      <td>1</td>\n",
       "    </tr>\n",
       "    <tr>\n",
       "      <th>615</th>\n",
       "      <td>Data Scientist</td>\n",
       "      <td>no-sql</td>\n",
       "      <td>1</td>\n",
       "    </tr>\n",
       "    <tr>\n",
       "      <th>14</th>\n",
       "      <td>Business Analyst</td>\n",
       "      <td>chef</td>\n",
       "      <td>1</td>\n",
       "    </tr>\n",
       "    <tr>\n",
       "      <th>11</th>\n",
       "      <td>Business Analyst</td>\n",
       "      <td>c#</td>\n",
       "      <td>1</td>\n",
       "    </tr>\n",
       "    <tr>\n",
       "      <th>3</th>\n",
       "      <td>Business Analyst</td>\n",
       "      <td>assembly</td>\n",
       "      <td>1</td>\n",
       "    </tr>\n",
       "  </tbody>\n",
       "</table>\n",
       "<p>1307 rows × 3 columns</p>\n",
       "</div>"
      ],
      "text/plain": [
       "      job_title_short job_skills  skill_count\n",
       "510     Data Engineer        sql         2914\n",
       "484     Data Engineer     python         2388\n",
       "385     Data Engineer      azure         1789\n",
       "384     Data Engineer        aws         1752\n",
       "505     Data Engineer      spark         1157\n",
       "..                ...        ...          ...\n",
       "613    Data Scientist      neo4j            1\n",
       "615    Data Scientist     no-sql            1\n",
       "14   Business Analyst       chef            1\n",
       "11   Business Analyst         c#            1\n",
       "3    Business Analyst   assembly            1\n",
       "\n",
       "[1307 rows x 3 columns]"
      ]
     },
     "execution_count": 108,
     "metadata": {},
     "output_type": "execute_result"
    }
   ],
   "source": [
    "df_skills_count"
   ]
  },
  {
   "cell_type": "code",
   "execution_count": 109,
   "id": "ead43ebb",
   "metadata": {},
   "outputs": [
    {
     "data": {
      "application/vnd.microsoft.datawrangler.viewer.v0+json": {
       "columns": [
        {
         "name": "index",
         "rawType": "int64",
         "type": "integer"
        },
        {
         "name": "job_title_short",
         "rawType": "object",
         "type": "string"
        },
        {
         "name": "job_skills",
         "rawType": "object",
         "type": "string"
        },
        {
         "name": "skill_count",
         "rawType": "int64",
         "type": "integer"
        },
        {
         "name": "jobs_total",
         "rawType": "int64",
         "type": "integer"
        },
        {
         "name": "skills_percent",
         "rawType": "float64",
         "type": "float"
        }
       ],
       "ref": "b1b84536-b237-46f8-aaac-d6802ad96edc",
       "rows": [
        [
         "0",
         "Data Engineer",
         "sql",
         "2914",
         "4658",
         "62.55903821382568"
        ],
        [
         "1",
         "Data Engineer",
         "python",
         "2388",
         "4658",
         "51.26663804207815"
        ],
        [
         "2",
         "Data Engineer",
         "azure",
         "1789",
         "4658",
         "38.4070416487763"
        ],
        [
         "3",
         "Data Engineer",
         "aws",
         "1752",
         "4658",
         "37.61270931730357"
        ],
        [
         "4",
         "Data Engineer",
         "spark",
         "1157",
         "4658",
         "24.838986689566337"
        ],
        [
         "5",
         "Senior Data Engineer",
         "sql",
         "949",
         "1482",
         "64.03508771929825"
        ],
        [
         "6",
         "Senior Data Engineer",
         "python",
         "875",
         "1482",
         "59.04183535762483"
        ],
        [
         "7",
         "Data Engineer",
         "databricks",
         "862",
         "4658",
         "18.50579647917561"
        ],
        [
         "8",
         "Data Analyst",
         "sql",
         "771",
         "1658",
         "46.50180940892642"
        ],
        [
         "9",
         "Data Engineer",
         "java",
         "698",
         "4658",
         "14.984972091026192"
        ],
        [
         "10",
         "Senior Data Engineer",
         "aws",
         "673",
         "1482",
         "45.41160593792173"
        ],
        [
         "11",
         "Data Engineer",
         "snowflake",
         "665",
         "4658",
         "14.276513525118077"
        ],
        [
         "12",
         "Data Engineer",
         "scala",
         "593",
         "4658",
         "12.730785744954916"
        ],
        [
         "13",
         "Senior Data Engineer",
         "azure",
         "570",
         "1482",
         "38.46153846153847"
        ],
        [
         "14",
         "Data Scientist",
         "sql",
         "557",
         "1179",
         "47.24342663273961"
        ],
        [
         "15",
         "Data Engineer",
         "power bi",
         "550",
         "4658",
         "11.80764276513525"
        ],
        [
         "16",
         "Data Scientist",
         "python",
         "549",
         "1179",
         "46.56488549618321"
        ],
        [
         "17",
         "Data Engineer",
         "kafka",
         "538",
         "4658",
         "11.550021468441392"
        ],
        [
         "18",
         "Data Engineer",
         "airflow",
         "532",
         "4658",
         "11.421210820094462"
        ],
        [
         "19",
         "Software Engineer",
         "aws",
         "532",
         "1589",
         "33.480176211453745"
        ],
        [
         "20",
         "Data Engineer",
         "redshift",
         "527",
         "4658",
         "11.313868613138686"
        ],
        [
         "21",
         "Data Engineer",
         "gcp",
         "504",
         "4658",
         "10.820094461142121"
        ],
        [
         "22",
         "Software Engineer",
         "python",
         "491",
         "1589",
         "30.899937067337945"
        ],
        [
         "23",
         "Data Engineer",
         "sql server",
         "487",
         "4658",
         "10.455130957492486"
        ],
        [
         "24",
         "Data Analyst",
         "python",
         "435",
         "1658",
         "26.23642943305187"
        ],
        [
         "25",
         "Data Engineer",
         "hadoop",
         "432",
         "4658",
         "9.27436668097896"
        ],
        [
         "26",
         "Senior Data Engineer",
         "spark",
         "420",
         "1482",
         "28.34008097165992"
        ],
        [
         "27",
         "Data Engineer",
         "tableau",
         "411",
         "4658",
         "8.823529411764707"
        ],
        [
         "28",
         "Software Engineer",
         "java",
         "398",
         "1589",
         "25.047199496538703"
        ],
        [
         "29",
         "Data Analyst",
         "power bi",
         "397",
         "1658",
         "23.94451145958987"
        ],
        [
         "30",
         "Data Engineer",
         "git",
         "393",
         "4658",
         "8.437097466723916"
        ],
        [
         "31",
         "Data Analyst",
         "excel",
         "386",
         "1658",
         "23.2810615199035"
        ],
        [
         "32",
         "Data Engineer",
         "oracle",
         "380",
         "4658",
         "8.158007728638902"
        ],
        [
         "33",
         "Data Engineer",
         "r",
         "352",
         "4658",
         "7.556891369686561"
        ],
        [
         "34",
         "Senior Data Engineer",
         "databricks",
         "336",
         "1482",
         "22.672064777327936"
        ],
        [
         "35",
         "Software Engineer",
         "sql",
         "334",
         "1589",
         "21.019509125235995"
        ],
        [
         "36",
         "Data Analyst",
         "tableau",
         "330",
         "1658",
         "19.903498190591073"
        ],
        [
         "37",
         "Software Engineer",
         "azure",
         "324",
         "1589",
         "20.39018250471995"
        ],
        [
         "38",
         "Data Scientist",
         "r",
         "312",
         "1179",
         "26.463104325699742"
        ],
        [
         "39",
         "Data Engineer",
         "nosql",
         "307",
         "4658",
         "6.590811507084586"
        ],
        [
         "40",
         "Senior Data Engineer",
         "snowflake",
         "302",
         "1482",
         "20.3778677462888"
        ],
        [
         "41",
         "Business Analyst",
         "sql",
         "296",
         "928",
         "31.896551724137932"
        ],
        [
         "42",
         "Data Engineer",
         "ssis",
         "295",
         "4658",
         "6.333190210390725"
        ],
        [
         "43",
         "Data Engineer",
         "pyspark",
         "294",
         "4658",
         "6.31172176899957"
        ],
        [
         "44",
         "Data Engineer",
         "bigquery",
         "291",
         "4658",
         "6.247316444826105"
        ],
        [
         "45",
         "Senior Data Engineer",
         "java",
         "282",
         "1482",
         "19.02834008097166"
        ],
        [
         "46",
         "Business Analyst",
         "excel",
         "275",
         "928",
         "29.63362068965517"
        ],
        [
         "47",
         "Data Analyst",
         "r",
         "267",
         "1658",
         "16.103739445114595"
        ],
        [
         "48",
         "Data Engineer",
         "go",
         "265",
         "4658",
         "5.689136968656076"
        ],
        [
         "49",
         "Machine Learning Engineer",
         "python",
         "261",
         "360",
         "72.5"
        ]
       ],
       "shape": {
        "columns": 5,
        "rows": 1307
       }
      },
      "text/html": [
       "<div>\n",
       "<style scoped>\n",
       "    .dataframe tbody tr th:only-of-type {\n",
       "        vertical-align: middle;\n",
       "    }\n",
       "\n",
       "    .dataframe tbody tr th {\n",
       "        vertical-align: top;\n",
       "    }\n",
       "\n",
       "    .dataframe thead th {\n",
       "        text-align: right;\n",
       "    }\n",
       "</style>\n",
       "<table border=\"1\" class=\"dataframe\">\n",
       "  <thead>\n",
       "    <tr style=\"text-align: right;\">\n",
       "      <th></th>\n",
       "      <th>job_title_short</th>\n",
       "      <th>job_skills</th>\n",
       "      <th>skill_count</th>\n",
       "      <th>jobs_total</th>\n",
       "      <th>skills_percent</th>\n",
       "    </tr>\n",
       "  </thead>\n",
       "  <tbody>\n",
       "    <tr>\n",
       "      <th>0</th>\n",
       "      <td>Data Engineer</td>\n",
       "      <td>sql</td>\n",
       "      <td>2914</td>\n",
       "      <td>4658</td>\n",
       "      <td>62.559038</td>\n",
       "    </tr>\n",
       "    <tr>\n",
       "      <th>1</th>\n",
       "      <td>Data Engineer</td>\n",
       "      <td>python</td>\n",
       "      <td>2388</td>\n",
       "      <td>4658</td>\n",
       "      <td>51.266638</td>\n",
       "    </tr>\n",
       "    <tr>\n",
       "      <th>2</th>\n",
       "      <td>Data Engineer</td>\n",
       "      <td>azure</td>\n",
       "      <td>1789</td>\n",
       "      <td>4658</td>\n",
       "      <td>38.407042</td>\n",
       "    </tr>\n",
       "    <tr>\n",
       "      <th>3</th>\n",
       "      <td>Data Engineer</td>\n",
       "      <td>aws</td>\n",
       "      <td>1752</td>\n",
       "      <td>4658</td>\n",
       "      <td>37.612709</td>\n",
       "    </tr>\n",
       "    <tr>\n",
       "      <th>4</th>\n",
       "      <td>Data Engineer</td>\n",
       "      <td>spark</td>\n",
       "      <td>1157</td>\n",
       "      <td>4658</td>\n",
       "      <td>24.838987</td>\n",
       "    </tr>\n",
       "    <tr>\n",
       "      <th>...</th>\n",
       "      <td>...</td>\n",
       "      <td>...</td>\n",
       "      <td>...</td>\n",
       "      <td>...</td>\n",
       "      <td>...</td>\n",
       "    </tr>\n",
       "    <tr>\n",
       "      <th>1302</th>\n",
       "      <td>Data Scientist</td>\n",
       "      <td>neo4j</td>\n",
       "      <td>1</td>\n",
       "      <td>1179</td>\n",
       "      <td>0.084818</td>\n",
       "    </tr>\n",
       "    <tr>\n",
       "      <th>1303</th>\n",
       "      <td>Data Scientist</td>\n",
       "      <td>no-sql</td>\n",
       "      <td>1</td>\n",
       "      <td>1179</td>\n",
       "      <td>0.084818</td>\n",
       "    </tr>\n",
       "    <tr>\n",
       "      <th>1304</th>\n",
       "      <td>Business Analyst</td>\n",
       "      <td>chef</td>\n",
       "      <td>1</td>\n",
       "      <td>928</td>\n",
       "      <td>0.107759</td>\n",
       "    </tr>\n",
       "    <tr>\n",
       "      <th>1305</th>\n",
       "      <td>Business Analyst</td>\n",
       "      <td>c#</td>\n",
       "      <td>1</td>\n",
       "      <td>928</td>\n",
       "      <td>0.107759</td>\n",
       "    </tr>\n",
       "    <tr>\n",
       "      <th>1306</th>\n",
       "      <td>Business Analyst</td>\n",
       "      <td>assembly</td>\n",
       "      <td>1</td>\n",
       "      <td>928</td>\n",
       "      <td>0.107759</td>\n",
       "    </tr>\n",
       "  </tbody>\n",
       "</table>\n",
       "<p>1307 rows × 5 columns</p>\n",
       "</div>"
      ],
      "text/plain": [
       "       job_title_short job_skills  skill_count  jobs_total  skills_percent\n",
       "0        Data Engineer        sql         2914        4658       62.559038\n",
       "1        Data Engineer     python         2388        4658       51.266638\n",
       "2        Data Engineer      azure         1789        4658       38.407042\n",
       "3        Data Engineer        aws         1752        4658       37.612709\n",
       "4        Data Engineer      spark         1157        4658       24.838987\n",
       "...                ...        ...          ...         ...             ...\n",
       "1302    Data Scientist      neo4j            1        1179        0.084818\n",
       "1303    Data Scientist     no-sql            1        1179        0.084818\n",
       "1304  Business Analyst       chef            1         928        0.107759\n",
       "1305  Business Analyst         c#            1         928        0.107759\n",
       "1306  Business Analyst   assembly            1         928        0.107759\n",
       "\n",
       "[1307 rows x 5 columns]"
      ]
     },
     "execution_count": 109,
     "metadata": {},
     "output_type": "execute_result"
    }
   ],
   "source": [
    "# Find total count of job postings by job title\n",
    "df_job_title_count = df_aus['job_title_short'].value_counts().reset_index(name='jobs_total')\n",
    "\n",
    "# Create merged dataframe with count of specific skill and total number of job postings for specific job title\n",
    "df_skills_pct = pd.merge(df_skills_count, df_job_title_count, how='left', on='job_title_short')\n",
    "\n",
    "# Calculate percent of job postings require a specific skill\n",
    "df_skills_pct['skills_percent'] = (df_skills_pct['skill_count'] / df_skills_pct['jobs_total']) * 100\n",
    "df_skills_pct\n"
   ]
  },
  {
   "cell_type": "code",
   "execution_count": 138,
   "id": "5b2bb1e2",
   "metadata": {},
   "outputs": [
    {
     "data": {
      "image/png": "[encoded data removed]",
      "text/plain": [
       "<Figure size 640x480 with 3 Axes>"
      ]
     },
     "metadata": {},
     "output_type": "display_data"
    }
   ],
   "source": [
    "# Create 3 horizontal bar plots showing count of job postings per job title\n",
    "sns.set_theme(style='ticks')\n",
    "fig, ax = plt.subplots(len(job_titles), 1)\n",
    "\n",
    "for i, job_title in enumerate(job_titles):\n",
    "    df_plot = df_skills_pct[df_skills_pct['job_title_short'] == job_title].head(5)\n",
    "    # df_plot.plot(kind='barh', ax=ax[i], x='job_skills', y='skills_percent', legend=False, title=job_title)\n",
    "    sns.barplot(data=df_plot, x='skills_percent', y='job_skills', hue='skills_percent', ax=ax[i], palette='dark:b_r', legend=False)\n",
    "    ax[i].set_title(job_title)\n",
    "    ax[i].set_ylabel('')\n",
    "    ax[i].set_xlabel('')\n",
    "    ax[i].set_xlim(0, 70)\n",
    "\n",
    "    if i < len(job_titles) - 1:\n",
    "        ax[i].set_xticks([])\n",
    "\n",
    "    for n, v in enumerate(df_plot['skills_percent']):\n",
    "        ax[i].text(v + 1, n, f'{v:.0f}%', va='center')\n",
    "\n",
    "fig.suptitle('Counts of Top 5 Skills in Job Postings', fontsize=15)\n",
    "plt.tight_layout(h_pad=0.5)\n",
    "plt.show()"
   ]
  }
 ],
 "metadata": {
  "kernelspec": {
   "display_name": ".venv",
   "language": "python",
   "name": "python3"
  },
  "language_info": {
   "codemirror_mode": {
    "name": "ipython",
    "version": 3
   },
   "file_extension": ".py",
   "mimetype": "text/x-python",
   "name": "python",
   "nbconvert_exporter": "python",
   "pygments_lexer": "ipython3",
   "version": "3.13.3"
  }
 },
 "nbformat": 4,
 "nbformat_minor": 5
}
