{
 "cells": [
  {
   "cell_type": "markdown",
   "id": "135dfdc4",
   "metadata": {},
   "source": [
    "### How well do jobs and skills pay for Data Analysts?\n",
    "\n",
    "#### Methodology\n",
    "\n",
    "1. Evaluate median salary for top 6 data jobs\n",
    "2. Find median salary per skill for Data Analysts\n",
    "3. Visualise for highest paying skills and and most in-demand skills"
   ]
  },
  {
   "cell_type": "code",
   "execution_count": 1,
   "id": "e9703f89",
   "metadata": {},
   "outputs": [],
   "source": [
    "# Import libraries\n",
    "import pandas as pd\n",
    "import ast\n",
    "import matplotlib.pyplot as plt\n",
    "import seaborn as sns\n",
    "\n",
    "# Load data\n",
    "df = pd.read_csv(r'../data/data_jobs.csv')\n",
    "\n",
    "# Data cleanup\n",
    "df['job_posted_date'] = pd.to_datetime(df['job_posted_date'])\n",
    "df['job_skills'] = df['job_skills'].apply(lambda skill_list: ast.literal_eval(skill_list) if pd.notna(skill_list) else skill_list)"
   ]
  },
  {
   "cell_type": "markdown",
   "id": "f946381b",
   "metadata": {},
   "source": [
    "### Filter for All Data Jobs in Australia"
   ]
  },
  {
   "cell_type": "code",
   "execution_count": 5,
   "id": "9bc968d9",
   "metadata": {},
   "outputs": [
    {
     "name": "stdout",
     "output_type": "stream",
     "text": [
      "job_title_short\n",
      "Data Engineer                4658\n",
      "Data Analyst                 1658\n",
      "Software Engineer            1589\n",
      "Senior Data Engineer         1482\n",
      "Data Scientist               1179\n",
      "Business Analyst              928\n",
      "Cloud Engineer                489\n",
      "Machine Learning Engineer     360\n",
      "Senior Data Analyst           310\n",
      "Senior Data Scientist         302\n",
      "Name: count, dtype: int64 \n",
      "\n",
      "job_country\n",
      "Australia    12955\n",
      "Name: count, dtype: int64 \n",
      "\n",
      "<class 'pandas.core.frame.DataFrame'>\n",
      "Index: 12955 entries, 90 to 785687\n",
      "Data columns (total 18 columns):\n",
      " #   Column                 Non-Null Count  Dtype         \n",
      "---  ------                 --------------  -----         \n",
      " 0   job_title_short        12955 non-null  object        \n",
      " 1   job_title              12955 non-null  object        \n",
      " 2   job_location           12954 non-null  object        \n",
      " 3   job_via                12955 non-null  object        \n",
      " 4   job_schedule_type      12849 non-null  object        \n",
      " 5   job_work_from_home     12955 non-null  bool          \n",
      " 6   search_location        12955 non-null  object        \n",
      " 7   job_posted_date        12955 non-null  datetime64[ns]\n",
      " 8   job_no_degree_mention  12955 non-null  bool          \n",
      " 9   job_health_insurance   12955 non-null  bool          \n",
      " 10  job_country            12955 non-null  object        \n",
      " 11  salary_rate            160 non-null    object        \n",
      " 12  salary_year_avg        74 non-null     float64       \n",
      " 13  salary_hour_avg        81 non-null     float64       \n",
      " 14  company_name           12955 non-null  object        \n",
      " 15  job_skills             11046 non-null  object        \n",
      " 16  job_type_skills        11046 non-null  object        \n",
      " 17  job_posted_month_no    12955 non-null  int32         \n",
      "dtypes: bool(3), datetime64[ns](1), float64(2), int32(1), object(11)\n",
      "memory usage: 1.6+ MB\n",
      "None\n"
     ]
    }
   ],
   "source": [
    "df_aus = df[df['job_country'] == 'Australia'].copy()\n",
    "df_aus['job_posted_month_no'] = df_aus['job_posted_date'].dt.month # Create month number column\n",
    "print(df_aus['job_title_short'].value_counts(),'\\n')\n",
    "print(df_aus['job_country'].value_counts(),'\\n')\n",
    "print(df_aus.info())"
   ]
  }
 ],
 "metadata": {
  "kernelspec": {
   "display_name": ".venv",
   "language": "python",
   "name": "python3"
  },
  "language_info": {
   "codemirror_mode": {
    "name": "ipython",
    "version": 3
   },
   "file_extension": ".py",
   "mimetype": "text/x-python",
   "name": "python",
   "nbconvert_exporter": "python",
   "pygments_lexer": "ipython3",
   "version": "3.13.3"
  }
 },
 "nbformat": 4,
 "nbformat_minor": 5
}
